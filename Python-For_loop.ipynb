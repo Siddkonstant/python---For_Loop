{
 "cells": [
  {
   "cell_type": "markdown",
   "id": "2e19c2f5-671b-490d-ac61-43a0007db3d8",
   "metadata": {},
   "source": [
    "For Loop - Python Assignment"
   ]
  },
  {
   "cell_type": "markdown",
   "id": "d87f932b-0c21-4ade-a5ae-614738ccf9c5",
   "metadata": {},
   "source": [
    "Basic Level:"
   ]
  },
  {
   "cell_type": "markdown",
   "id": "a32725a9-f0ee-4b89-9998-6f88efee5920",
   "metadata": {},
   "source": [
    "1. Write a Python program to print the numbers from 1 to 10 using a `for` loop."
   ]
  },
  {
   "cell_type": "code",
   "execution_count": 2,
   "id": "38fe12eb-a33e-471b-a6af-c55a33bf1e53",
   "metadata": {},
   "outputs": [
    {
     "name": "stdout",
     "output_type": "stream",
     "text": [
      "1\n",
      "2\n",
      "3\n",
      "4\n",
      "5\n",
      "6\n",
      "7\n",
      "8\n",
      "9\n",
      "10\n"
     ]
    }
   ],
   "source": [
    "for i in range(1, 11):\n",
    "    print(i)"
   ]
  },
  {
   "cell_type": "markdown",
   "id": "42e054dd-40cf-4454-98fa-08301ccd4704",
   "metadata": {},
   "source": [
    "2. Create a program that calculates the sum of all numbers in a list using a `for` loop."
   ]
  },
  {
   "cell_type": "code",
   "execution_count": 22,
   "id": "2421b105-5dab-4a67-a415-ef1214dc7c09",
   "metadata": {},
   "outputs": [
    {
     "name": "stdout",
     "output_type": "stream",
     "text": [
      "10\n"
     ]
    }
   ],
   "source": [
    "def calculate_list(my_list):\n",
    "    total_sum = 0\n",
    "    for num in my_list:\n",
    "        total_sum += num\n",
    "    return total_sum\n",
    "\n",
    "my_list = [1,2,3,4]\n",
    "result = calculate_list(my_list)\n",
    "print(result)"
   ]
  },
  {
   "cell_type": "markdown",
   "id": "de996cca-227e-4f78-bba4-e8843b8fff2d",
   "metadata": {},
   "source": [
    "3. Write a program to print the characters of a string in reverse order using a `for` loop."
   ]
  },
  {
   "cell_type": "code",
   "execution_count": 23,
   "id": "30cda1d4-7cd7-44d6-b539-72f86d4732e5",
   "metadata": {},
   "outputs": [
    {
     "name": "stdout",
     "output_type": "stream",
     "text": [
      "olleH\n"
     ]
    }
   ],
   "source": [
    "def reverse_string(my_string):\n",
    "    reversed_string = \"\"\n",
    "    for char in reversed(my_string):\n",
    "        reversed_string += char\n",
    "    return reversed_string\n",
    "\n",
    "my_string = \"Hello\"\n",
    "result = reverse_string(my_string)\n",
    "print(result)\n",
    "        "
   ]
  },
  {
   "cell_type": "markdown",
   "id": "c682a024-ef38-4935-b488-f39a00ad96eb",
   "metadata": {},
   "source": [
    "4. Develop a program that finds the factorial of a given number using a `for` loop."
   ]
  },
  {
   "cell_type": "code",
   "execution_count": 24,
   "id": "5ffbb778-199e-4d76-8d49-beb7d6ad2b22",
   "metadata": {},
   "outputs": [
    {
     "name": "stdout",
     "output_type": "stream",
     "text": [
      "120\n"
     ]
    }
   ],
   "source": [
    "def find_fact(num):\n",
    "    factorial_result = 1\n",
    "    for i in range(1, num+1):\n",
    "        factorial_result *= i\n",
    "    return factorial_result\n",
    "\n",
    "num = 5\n",
    "result = find_fact(num)\n",
    "print(result)"
   ]
  },
  {
   "cell_type": "markdown",
   "id": "eefbb278-a102-4b83-9468-22a6263e1d36",
   "metadata": {},
   "source": [
    "5. Create a program to print the multiplication table of a given number using a `for` loop."
   ]
  },
  {
   "cell_type": "code",
   "execution_count": 37,
   "id": "d57d58ec-9380-48ab-b856-9182d0db0ee9",
   "metadata": {},
   "outputs": [
    {
     "name": "stdin",
     "output_type": "stream",
     "text": [
      "Enter a number for multiplication table: 2\n"
     ]
    },
    {
     "name": "stdout",
     "output_type": "stream",
     "text": [
      "2 * 1 = 2\n",
      "2 * 2 = 4\n",
      "2 * 3 = 6\n",
      "2 * 4 = 8\n",
      "2 * 5 = 10\n",
      "2 * 6 = 12\n",
      "2 * 7 = 14\n",
      "2 * 8 = 16\n",
      "2 * 9 = 18\n",
      "2 * 10 = 20\n"
     ]
    }
   ],
   "source": [
    "\n",
    "def multiplication_table(num):\n",
    "    for i in range(1,11):\n",
    "        result = num * i\n",
    "        print(f\"{num} * {i} = {result}\")   \n",
    "        \n",
    "user_input = int(input(\"Enter a number for multiplication table:\"))\n",
    "multiplication_table(user_input)"
   ]
  },
  {
   "cell_type": "markdown",
   "id": "ec6e0f12-a06a-4acf-b763-c1c04186fb61",
   "metadata": {},
   "source": [
    "6. Write a program that counts the number of even and odd numbers in a list using a `for` loop."
   ]
  },
  {
   "cell_type": "code",
   "execution_count": 41,
   "id": "53b8ef70-adc0-4054-8fce-8c5db5c04710",
   "metadata": {},
   "outputs": [
    {
     "name": "stdout",
     "output_type": "stream",
     "text": [
      "(3, 5)\n"
     ]
    }
   ],
   "source": [
    "def count_number(my_list):\n",
    "    even_num = 0\n",
    "    odd_num = 0\n",
    "    for i in my_list:\n",
    "        if i % 2 == 0:\n",
    "            even_num += 1\n",
    "        else:\n",
    "            odd_num +=1\n",
    "    return even_num, odd_num\n",
    "\n",
    "my_list = [1,3,4,5,6,7,8,9]\n",
    "result = count_number(my_list)\n",
    "print(result)\n",
    "        "
   ]
  },
  {
   "cell_type": "markdown",
   "id": "14f8896e-34fe-43ea-a71a-fb652880932c",
   "metadata": {},
   "source": [
    "7. Develop a program that prints the squares of numbers from 1 to 5 using a `for` loop."
   ]
  },
  {
   "cell_type": "code",
   "execution_count": 49,
   "id": "a784253e-b18c-4e88-94f6-65f6c8c966fb",
   "metadata": {},
   "outputs": [
    {
     "name": "stdout",
     "output_type": "stream",
     "text": [
      "1 square is 1\n",
      "2 square is 4\n",
      "3 square is 9\n",
      "4 square is 16\n",
      "5 square is 25\n"
     ]
    }
   ],
   "source": [
    "def num_square():\n",
    "    for i in range(1,6):\n",
    "        square = i ** 2 \n",
    "        print(f\"{i} square is {square}\")\n",
    "num_square()     \n",
    "\n"
   ]
  },
  {
   "cell_type": "markdown",
   "id": "fcbad0e8-0747-44c6-a091-37ad7b6e64f5",
   "metadata": {},
   "source": [
    "8. Create a program to find the length of a string without using the `len()` function."
   ]
  },
  {
   "cell_type": "code",
   "execution_count": 51,
   "id": "db011ef3-9df5-4fc2-9d4e-64dd1e277244",
   "metadata": {},
   "outputs": [
    {
     "name": "stdout",
     "output_type": "stream",
     "text": [
      "6\n"
     ]
    }
   ],
   "source": [
    "def length_string(my_string):\n",
    "    length = 0\n",
    "    for char in my_string:\n",
    "        length += 1\n",
    "    return length\n",
    "\n",
    "my_string = \"Helloo\"\n",
    "result = length_string(my_string)\n",
    "print(result)"
   ]
  },
  {
   "cell_type": "markdown",
   "id": "8bf84a8f-a58c-492d-91da-58bf5bbd70fa",
   "metadata": {},
   "source": [
    "9. Write a program that calculates the average of a list of numbers using a `for` loop."
   ]
  },
  {
   "cell_type": "code",
   "execution_count": 61,
   "id": "b668d450-f970-40f5-a910-9e508f528d40",
   "metadata": {},
   "outputs": [
    {
     "name": "stdout",
     "output_type": "stream",
     "text": [
      "7.0\n"
     ]
    }
   ],
   "source": [
    "def avg_list(numbers):\n",
    "    if not numbers:\n",
    "        return 0\n",
    "    \n",
    "    total_sum = 0\n",
    "    count = 0\n",
    "    \n",
    "    for num in numbers:\n",
    "        total_sum += num\n",
    "        count += 1\n",
    "        \n",
    "    average_total = total_sum / count\n",
    "    return average_total\n",
    "\n",
    "my_list = [5, 8, 12, 4, 6]\n",
    "result = avg_list(my_list)\n",
    "print(result)\n",
    "        "
   ]
  },
  {
   "cell_type": "markdown",
   "id": "88a8b041-ed67-42a2-990b-ac4b8139ab05",
   "metadata": {},
   "source": [
    "10. Develop a program that prints the first `n` Fibonacci numbers using a `for` loop.\n"
   ]
  },
  {
   "cell_type": "code",
   "execution_count": 64,
   "id": "959be23e-ab33-498a-ab2c-deafac67071a",
   "metadata": {},
   "outputs": [
    {
     "name": "stdin",
     "output_type": "stream",
     "text": [
      "Enter the number of Fibonacci numbers to print:  5\n"
     ]
    },
    {
     "name": "stdout",
     "output_type": "stream",
     "text": [
      "fibonacci sequence:\n",
      "[0, 1, 1, 2, 3]\n"
     ]
    }
   ],
   "source": [
    "def fibonacci_num(n):\n",
    "    fibonacci_sequence = [0,1]\n",
    "    \n",
    "    if n <= 0:\n",
    "        print(\"Enter positive value\")\n",
    "    elif n == 1:\n",
    "        print(\"Fibonacci sequence (first element):\")\n",
    "        print(fibonacci_sequence[0])\n",
    "    else:\n",
    "        print(\"fibonacci sequence:\")\n",
    "        for _ in range(2,n):\n",
    "            next_number = fibonacci_sequence[-1] + fibonacci_sequence[-2]\n",
    "            fibonacci_sequence.append(next_number)\n",
    "            \n",
    "        print(fibonacci_sequence)    \n",
    "        \n",
    "user_input = int(input(\"Enter the number of Fibonacci numbers to print: \"))\n",
    "fibonacci_num(user_input)        "
   ]
  },
  {
   "cell_type": "markdown",
   "id": "a7dd7748-b5d3-46ba-9892-85a94cb668ba",
   "metadata": {},
   "source": [
    "Intermediate Level:"
   ]
  },
  {
   "cell_type": "markdown",
   "id": "75eaacdc-945a-4582-ab11-a7769fb588fa",
   "metadata": {},
   "source": [
    "11. Write a program to check if a given list contains any duplicates using a `for` loop."
   ]
  },
  {
   "cell_type": "code",
   "execution_count": 71,
   "id": "62e926ff-74e4-4e43-a23f-a5c93202064d",
   "metadata": {},
   "outputs": [
    {
     "name": "stdout",
     "output_type": "stream",
     "text": [
      "My list contains duplicates\n"
     ]
    }
   ],
   "source": [
    "def duplicate_elements(input_list):\n",
    "    dupe_list = set()\n",
    "    for elements in input_list:\n",
    "        if elements in dupe_list:\n",
    "            return True\n",
    "        dupe_list.add(elements)\n",
    "    return False\n",
    "\n",
    "my_list = [1, 2, 3, 4, 5, 6,1]\n",
    "result = duplicate_elements(my_list)\n",
    "\n",
    "if result:\n",
    "    print(f\"My list contains duplicates\")\n",
    "else:\n",
    "    print(\"list does not have duplicates\")\n",
    "        \n",
    "    "
   ]
  },
  {
   "cell_type": "markdown",
   "id": "e8d8ce02-ddf0-4e1a-9915-b18db9770d2e",
   "metadata": {},
   "source": [
    "12. Create a program that prints the prime numbers in a given range using a `for` loop."
   ]
  },
  {
   "cell_type": "code",
   "execution_count": 72,
   "id": "873d3fa4-0554-4e4a-9cc3-18e4e94aa3ad",
   "metadata": {},
   "outputs": [
    {
     "name": "stdin",
     "output_type": "stream",
     "text": [
      "Enter starting number 2\n",
      "Enter ending number 10\n"
     ]
    },
    {
     "name": "stdout",
     "output_type": "stream",
     "text": [
      "Prime number in range 2 to 10:\n",
      "2\n",
      "3\n",
      "5\n",
      "7\n"
     ]
    }
   ],
   "source": [
    "def is_prime(num):\n",
    "    if num < 2:\n",
    "        return False\n",
    "    for i in range(2, int(num ** 0.5) +1):\n",
    "        if num % i == 0:\n",
    "            return False\n",
    "    return True\n",
    "\n",
    "def prime_in_range(start, end):\n",
    "    print(f\"Prime number in range {start} to {end}:\")\n",
    "    for number in range(start, end+1):\n",
    "        if is_prime(number):\n",
    "            print(number)\n",
    "            \n",
    "start_range = int(input(\"Enter starting number\"))\n",
    "end_range = int(input(\"Enter ending number\"))\n",
    "prime_in_range(start_range, end_range)\n",
    "    "
   ]
  },
  {
   "cell_type": "markdown",
   "id": "05da7e38-a5ec-4a36-851d-16471f01dd56",
   "metadata": {},
   "source": [
    "13. Develop a program that counts the number of vowels in a string using a `for` loop."
   ]
  },
  {
   "cell_type": "code",
   "execution_count": 80,
   "id": "3a266b1b-db1b-4d63-99c2-8c9314ac755f",
   "metadata": {},
   "outputs": [
    {
     "name": "stdin",
     "output_type": "stream",
     "text": [
      "Enter a string: hello worlds\n"
     ]
    },
    {
     "name": "stdout",
     "output_type": "stream",
     "text": [
      "3\n"
     ]
    }
   ],
   "source": [
    "def count_vowels(my_string):\n",
    "    vowels = \"aeiouAEIOU\"\n",
    "    vowel_count = 0\n",
    "    \n",
    "    for char in my_string:\n",
    "        if char in vowels:\n",
    "            vowel_count += 1\n",
    "    return vowel_count\n",
    "\n",
    "string1 = str(input(\"Enter a string:\"))\n",
    "result = count_vowels(string1)\n",
    "print(result)\n",
    "        \n",
    "    "
   ]
  },
  {
   "cell_type": "markdown",
   "id": "1b45ceb3-bd1c-4f58-8287-79a57ccb5913",
   "metadata": {},
   "source": [
    "14. Write a program to find the maximum element in a 2D list using a nested `for` loop."
   ]
  },
  {
   "cell_type": "code",
   "execution_count": 84,
   "id": "8ae681fc-19ab-4fe6-82de-7ec5418a29d6",
   "metadata": {},
   "outputs": [
    {
     "name": "stdout",
     "output_type": "stream",
     "text": [
      "The maximum element in the 2D list is: 9\n"
     ]
    }
   ],
   "source": [
    "def find_max_element(matrix):\n",
    "    if not num:\n",
    "        return None\n",
    "    \n",
    "    max_element = matrix[0][0]\n",
    "    \n",
    "    for row in matrix:\n",
    "        for element in row:\n",
    "            if element > max_element:\n",
    "                max_element = element\n",
    "    return max_element\n",
    "\n",
    "my_matrix = [\n",
    "    [4, 8, 2],\n",
    "    [7, 1, 9],\n",
    "    [3, 5, 6]\n",
    "]\n",
    "result = find_max_element(my_matrix)\n",
    "print(f\"The maximum element in the 2D list is: {result}\")"
   ]
  },
  {
   "cell_type": "markdown",
   "id": "d5081155-5cc4-42ff-8f96-3e9b896a3904",
   "metadata": {},
   "source": [
    "15. Create a program that removes all occurrences of a specific element from a list using a `for` loop."
   ]
  },
  {
   "cell_type": "code",
   "execution_count": 91,
   "id": "b7ffad88-ec26-468d-a32a-ef5c0031e1a7",
   "metadata": {},
   "outputs": [
    {
     "name": "stdout",
     "output_type": "stream",
     "text": [
      "Original list: [1, 2, 3, 1, 2, 3, 1, 2, 2, 2, 3]\n",
      "updated list: [1, 3, 1, 3, 1, 3]\n"
     ]
    }
   ],
   "source": [
    "def remove_occurrance(my_list, remove_element):\n",
    "    updated_list = []\n",
    "    \n",
    "    for items in my_list:\n",
    "        if items != remove_element:\n",
    "            updated_list.append(items)\n",
    "    return updated_list    \n",
    "\n",
    "my_list = [1,2,3,1,2,3,1,2,2,2,3]\n",
    "remove_element = 2\n",
    "result = remove_occurrance(my_list, remove_element)\n",
    "\n",
    "print(\"Original list:\", my_list)\n",
    "print(\"updated list:\", result)\n",
    "           "
   ]
  },
  {
   "cell_type": "markdown",
   "id": "138a6202-8fbc-4a51-8468-39db058b9600",
   "metadata": {},
   "source": [
    "16. Develop a program that generates a multiplication table for numbers from 1 to 5 using a nested `for` loop."
   ]
  },
  {
   "cell_type": "code",
   "execution_count": 94,
   "id": "1e9c6d53-0f49-414c-a4b4-fb926d479f02",
   "metadata": {},
   "outputs": [
    {
     "name": "stdout",
     "output_type": "stream",
     "text": [
      "Multiplication table for numbers from 1 to 5:\n",
      "\n",
      "Table for 1\n",
      " 1 * 1 = 1\n",
      " 1 * 2 = 2\n",
      " 1 * 3 = 3\n",
      " 1 * 4 = 4\n",
      " 1 * 5 = 5\n",
      " 1 * 6 = 6\n",
      " 1 * 7 = 7\n",
      " 1 * 8 = 8\n",
      " 1 * 9 = 9\n",
      " 1 * 10 = 10\n",
      "\n",
      "Table for 2\n",
      " 2 * 1 = 2\n",
      " 2 * 2 = 4\n",
      " 2 * 3 = 6\n",
      " 2 * 4 = 8\n",
      " 2 * 5 = 10\n",
      " 2 * 6 = 12\n",
      " 2 * 7 = 14\n",
      " 2 * 8 = 16\n",
      " 2 * 9 = 18\n",
      " 2 * 10 = 20\n",
      "\n",
      "Table for 3\n",
      " 3 * 1 = 3\n",
      " 3 * 2 = 6\n",
      " 3 * 3 = 9\n",
      " 3 * 4 = 12\n",
      " 3 * 5 = 15\n",
      " 3 * 6 = 18\n",
      " 3 * 7 = 21\n",
      " 3 * 8 = 24\n",
      " 3 * 9 = 27\n",
      " 3 * 10 = 30\n",
      "\n",
      "Table for 4\n",
      " 4 * 1 = 4\n",
      " 4 * 2 = 8\n",
      " 4 * 3 = 12\n",
      " 4 * 4 = 16\n",
      " 4 * 5 = 20\n",
      " 4 * 6 = 24\n",
      " 4 * 7 = 28\n",
      " 4 * 8 = 32\n",
      " 4 * 9 = 36\n",
      " 4 * 10 = 40\n",
      "\n",
      "Table for 5\n",
      " 5 * 1 = 5\n",
      " 5 * 2 = 10\n",
      " 5 * 3 = 15\n",
      " 5 * 4 = 20\n",
      " 5 * 5 = 25\n",
      " 5 * 6 = 30\n",
      " 5 * 7 = 35\n",
      " 5 * 8 = 40\n",
      " 5 * 9 = 45\n",
      " 5 * 10 = 50\n"
     ]
    },
    {
     "data": {
      "text/plain": [
       "50"
      ]
     },
     "execution_count": 94,
     "metadata": {},
     "output_type": "execute_result"
    }
   ],
   "source": [
    "def generate_multiplication_table():\n",
    "    print(\"Multiplication table for numbers from 1 to 5:\")\n",
    "    for i in range(1,6):\n",
    "        print(f\"\\nTable for {i}\")\n",
    "        for j in range(1,11):\n",
    "            result = i * j\n",
    "            print(f\" {i} * {j} = {result}\")\n",
    "    return result\n",
    "\n",
    "generate_multiplication_table()"
   ]
  },
  {
   "cell_type": "markdown",
   "id": "72f50604-852e-460a-b0fb-d2fcda9c3712",
   "metadata": {},
   "source": [
    "17. Write a program that converts a list of Fahrenheit temperatures to Celsius using a `for` loop."
   ]
  },
  {
   "cell_type": "code",
   "execution_count": 95,
   "id": "98dc2938-7755-4a61-b717-6edcebbee023",
   "metadata": {},
   "outputs": [
    {
     "name": "stdout",
     "output_type": "stream",
     "text": [
      "Fahrenheit Temprature: [32, 68, 104, 212, 98.6]\n",
      "Celsius Temprature: [0.0, 20.0, 40.0, 100.0, 37.0]\n"
     ]
    }
   ],
   "source": [
    "def f_to_c(f_temp):\n",
    "    c_temp = []\n",
    "    \n",
    "    for i in f_temp:\n",
    "        celsius = (i - 32) * 5/9\n",
    "        c_temp.append(celsius)\n",
    "    return c_temp\n",
    "\n",
    "fahrenheit_temps = [32, 68, 104, 212, 98.6]\n",
    "result = f_to_c(fahrenheit_temps)\n",
    "print(\"Fahrenheit Temprature:\", fahrenheit_temps)\n",
    "print(\"Celsius Temprature:\", result)"
   ]
  },
  {
   "cell_type": "markdown",
   "id": "5a2c1990-c0c2-4a09-9c18-eaf63b89ef26",
   "metadata": {},
   "source": [
    "18. Create a program to print the common elements from two lists using a `for` loop."
   ]
  },
  {
   "cell_type": "code",
   "execution_count": 98,
   "id": "1219adea-aa73-4275-a1f7-d77c967069f0",
   "metadata": {},
   "outputs": [
    {
     "name": "stdout",
     "output_type": "stream",
     "text": [
      "Common elements are: [3, 4, 5]\n"
     ]
    }
   ],
   "source": [
    "def common_elements(list1, list2):\n",
    "    common_element = []\n",
    "    \n",
    "    for item1 in list1:\n",
    "        for item2 in list2:\n",
    "            if item1 == item2:\n",
    "                common_element.append(item1)\n",
    "    return common_element\n",
    "\n",
    "list1 = [1,2,3,4,5]\n",
    "list2 = [3,4,5,6,7]\n",
    "\n",
    "result = common_elements(list1,list2)\n",
    "print(\"Common elements are:\", result)\n"
   ]
  },
  {
   "cell_type": "markdown",
   "id": "617588b0-0ac5-42db-8a91-6fcdb234463a",
   "metadata": {},
   "source": [
    "19. Develop a program that prints the pattern of right-angled triangles using a `for` loop. Use ‘*’ to draw the pattern."
   ]
  },
  {
   "cell_type": "code",
   "execution_count": 99,
   "id": "648df6c1-0769-4854-bf18-5e23a1e0e451",
   "metadata": {},
   "outputs": [
    {
     "name": "stdin",
     "output_type": "stream",
     "text": [
      "Enter the number of rows for the right-angled triangle:  5\n"
     ]
    },
    {
     "name": "stdout",
     "output_type": "stream",
     "text": [
      "* \n",
      "* * \n",
      "* * * \n",
      "* * * * \n",
      "* * * * * \n"
     ]
    }
   ],
   "source": [
    "def right_triangle(n):\n",
    "    for i in range(1, n+1):\n",
    "        for j in range(1, i+1):\n",
    "            print(\"*\",end=\" \")\n",
    "        print()\n",
    "\n",
    "num_rows = int(input(\"Enter the number of rows for the right-angled triangle: \"))\n",
    "right_triangle(num_rows)        "
   ]
  },
  {
   "cell_type": "markdown",
   "id": "653e326f-d9a4-4f57-aa18-fd038ff07d78",
   "metadata": {},
   "source": [
    "20. Write a program to find the greatest common divisor (GCD) of two numbers using a `for` loop."
   ]
  },
  {
   "cell_type": "code",
   "execution_count": 102,
   "id": "294c548e-10f4-4477-8f92-5c9c854c4e9f",
   "metadata": {},
   "outputs": [
    {
     "name": "stdin",
     "output_type": "stream",
     "text": [
      "Enter the first number:  15\n",
      "Enter the second number:  18\n"
     ]
    },
    {
     "name": "stdout",
     "output_type": "stream",
     "text": [
      "The GCD of 15 and 18 is: 3\n"
     ]
    }
   ],
   "source": [
    "def find_gdc(num1, num2):\n",
    "    if num1 < num2:\n",
    "        num1, num2 = num2, num1\n",
    "        \n",
    "    for i in range(num2, 0, -1):\n",
    "        if num1 % i == 0 and num2 % i == 0:\n",
    "            return i\n",
    "    return 1 \n",
    "\n",
    "num1 = int(input(\"Enter the first number: \"))\n",
    "num2 = int(input(\"Enter the second number: \"))\n",
    "result = find_gdc(num1, num2)\n",
    "\n",
    "print(f\"The GCD of {num1} and {num2} is: {result}\")"
   ]
  },
  {
   "cell_type": "markdown",
   "id": "0d0f0d54-4480-4959-8729-b1425e779add",
   "metadata": {},
   "source": [
    "Advanced Level:"
   ]
  },
  {
   "cell_type": "markdown",
   "id": "e2ee13b8-0a02-45d2-aed1-c707cbf3388b",
   "metadata": {},
   "source": [
    "21. Create a program that calculates the sum of the digits of numbers in a list using a list comprehension."
   ]
  },
  {
   "cell_type": "code",
   "execution_count": 1,
   "id": "ce132f52-174e-42d8-8914-e14715443a82",
   "metadata": {},
   "outputs": [
    {
     "name": "stdout",
     "output_type": "stream",
     "text": [
      "Original list: [123, 45, 6789, 987]\n",
      "Sum of digits in each number: [6, 9, 30, 24]\n"
     ]
    }
   ],
   "source": [
    "def sum_of_digits(numbers):\n",
    "    return [sum(int(digit) for digit in str(num)) for num in numbers]\n",
    "\n",
    "numbers_list = [123, 45, 6789, 987]\n",
    "result = sum_of_digits(numbers_list)\n",
    "\n",
    "print(f\"Original list: {numbers_list}\")\n",
    "print(f\"Sum of digits in each number: {result}\")"
   ]
  },
  {
   "cell_type": "markdown",
   "id": "778d134c-733e-4e19-a206-b76026d6c834",
   "metadata": {},
   "source": [
    "22. Write a program to find the prime factors of a given number using a `for` loop and list comprehension."
   ]
  },
  {
   "cell_type": "code",
   "execution_count": 2,
   "id": "98b50c1e-2dd9-4bd8-96d9-8be135d440d2",
   "metadata": {},
   "outputs": [
    {
     "name": "stdin",
     "output_type": "stream",
     "text": [
      "Enter a number:  12\n"
     ]
    },
    {
     "name": "stdout",
     "output_type": "stream",
     "text": [
      "Prime factors of 12: [2, 3]\n"
     ]
    }
   ],
   "source": [
    "def prime_factors(n):\n",
    "    return [i for i in range(2, n+1) if n % i == 0 and all(i%j!=0 for j in range(2, int(i**0.5) + 1))]\n",
    "\n",
    "number = int(input(\"Enter a number: \"))\n",
    "result = prime_factors(number)\n",
    "\n",
    "print(f\"Prime factors of {number}: {result}\")\n",
    "    "
   ]
  },
  {
   "cell_type": "markdown",
   "id": "8247293e-bd18-4557-9aa5-660c162e97d9",
   "metadata": {},
   "source": [
    "23. Develop a program that extracts unique elements from a list and stores them in a new list using a list comprehension."
   ]
  },
  {
   "cell_type": "code",
   "execution_count": 3,
   "id": "a7d6d907-4c83-4745-bb0f-47bb83259321",
   "metadata": {},
   "outputs": [
    {
     "name": "stdout",
     "output_type": "stream",
     "text": [
      "Original list: [1, 2, 3, 2, 4, 5, 3, 6]\n",
      "Unique elements: [1, 2, 3, 4, 5, 6]\n"
     ]
    }
   ],
   "source": [
    "def extract_unique(input_list):\n",
    "    return list(set(input_list))\n",
    "\n",
    "list1 = [1, 2, 3, 2, 4, 5, 3, 6]\n",
    "result = extract_unique(list1)\n",
    "\n",
    "print(f\"Original list:\", list1)\n",
    "print(f\"Unique elements:\", result)"
   ]
  },
  {
   "cell_type": "markdown",
   "id": "e79ee157-e2ba-4a97-82c5-376aa843bd8b",
   "metadata": {},
   "source": [
    "24. Create a program that generates a list of all palindromic numbers up to a specified limit using a list comprehension."
   ]
  },
  {
   "cell_type": "code",
   "execution_count": 7,
   "id": "9364b6f5-b13a-43c1-ab77-fff9ca8c2739",
   "metadata": {},
   "outputs": [
    {
     "name": "stdin",
     "output_type": "stream",
     "text": [
      "Enter the upper limit: 100\n"
     ]
    },
    {
     "name": "stdout",
     "output_type": "stream",
     "text": [
      "Palindromic number up to 100 are : [1, 2, 3, 4, 5, 6, 7, 8, 9, 11, 22, 33, 44, 55, 66, 77, 88, 99]\n"
     ]
    }
   ],
   "source": [
    "def is_palindrome(number):\n",
    "    return str(number) == str(number)[::-1]\n",
    "\n",
    "def generate_palindrome_num(limit):\n",
    "    return [num for num in range(1, limit+1) if is_palindrome(num)]\n",
    "\n",
    "upper_limit = int(input(\"Enter the upper limit:\"))\n",
    "result = generate_palindrome_num(upper_limit)\n",
    "\n",
    "print(f\"Palindromic number up to {upper_limit} are :\", result)\n",
    "            \n",
    "    "
   ]
  },
  {
   "cell_type": "markdown",
   "id": "0b880720-817d-44fa-99c4-03f9ceef4cb0",
   "metadata": {},
   "source": [
    "25. Write a program to flatten a nested list using list comprehension."
   ]
  },
  {
   "cell_type": "code",
   "execution_count": 8,
   "id": "931d5e2c-c548-420e-bcf3-e1aa2b6fc75b",
   "metadata": {},
   "outputs": [
    {
     "name": "stdout",
     "output_type": "stream",
     "text": [
      "Here is the flatten list; [1, 2, 3, 4, 5, 6, 7, 8]\n"
     ]
    }
   ],
   "source": [
    "def faltten_nested_list(sublist):\n",
    "    return [element for sublist in nested_list for element in sublist]\n",
    "\n",
    "nested_list = [[1, 2, 3], [4, 5], [6, 7, 8]]\n",
    "result = faltten_nested_list(nested_list)\n",
    "print(\"Here is the flatten list;\", result)"
   ]
  },
  {
   "cell_type": "markdown",
   "id": "cd02fa4a-d582-47eb-90a8-1cfca9710610",
   "metadata": {},
   "source": [
    "26. Develop a program that computes the sum of even and odd numbers in a list separately using list comprehension."
   ]
  },
  {
   "cell_type": "code",
   "execution_count": 12,
   "id": "5f6ce4f4-5a3a-47ac-ba5a-9a0e97fda4a6",
   "metadata": {},
   "outputs": [
    {
     "name": "stdout",
     "output_type": "stream",
     "text": [
      "Original list: [1, 2, 3, 4, 5, 6, 7, 8, 9, 10]\n",
      "Even sum: 30\n",
      "Odd sum:25\n"
     ]
    }
   ],
   "source": [
    "def sum_even_odd(numbers):\n",
    "    even_sum = sum(num for num in numbers if num % 2 == 0)\n",
    "    odd_sum = sum(num for num in numbers if num % 2 != 0)\n",
    "    return even_sum, odd_sum\n",
    "\n",
    "numbers_list = [1, 2, 3, 4, 5, 6, 7, 8, 9, 10]\n",
    "even_sum, odd_sum = sum_even_odd(numbers_list)\n",
    "\n",
    "print(\"Original list:\", numbers_list)\n",
    "print(f\"Even sum: {even_sum}\")\n",
    "print(f\"Odd sum:{odd_sum}\")"
   ]
  },
  {
   "cell_type": "markdown",
   "id": "b81d83a5-6a9b-4991-9810-4a66cb8a2d02",
   "metadata": {},
   "source": [
    "27. Create a program that generates a list of squares of odd numbers between 1 and 10 using list comprehension."
   ]
  },
  {
   "cell_type": "code",
   "execution_count": 13,
   "id": "a726079e-75a3-4d58-afc1-4b1740b2b305",
   "metadata": {},
   "outputs": [
    {
     "name": "stdout",
     "output_type": "stream",
     "text": [
      "Square of odd numbers: [1, 9, 25, 49, 81]\n"
     ]
    }
   ],
   "source": [
    "square_of_odd_numbers = [num ** 2 for num in range(1,11) if num % 2 != 0]\n",
    "print(\"Square of odd numbers:\", square_of_odd_numbers)\n",
    "                         "
   ]
  },
  {
   "cell_type": "markdown",
   "id": "1f05805f-c3f9-4a8f-a6a1-acbf69d4bfe3",
   "metadata": {},
   "source": [
    "28. Write a program that combines two lists into a dictionary using list comprehension."
   ]
  },
  {
   "cell_type": "code",
   "execution_count": 15,
   "id": "b31064e1-524a-4a50-8cce-c6a64b0387a3",
   "metadata": {},
   "outputs": [
    {
     "name": "stdout",
     "output_type": "stream",
     "text": [
      "{'name': 'Alice', 'age': 25, 'city': 'Wonderland'}\n"
     ]
    }
   ],
   "source": [
    "keys = ['name', 'age', 'city']\n",
    "values = ['Alice', 25, 'Wonderland']\n",
    "\n",
    "combined_dict = {keys[i]: values[i] for i in range(min(len(keys), len(values)))}\n",
    "                 \n",
    "print(combined_dict)                 "
   ]
  },
  {
   "cell_type": "code",
   "execution_count": 17,
   "id": "82b5fbd5-20ae-4a9f-aba9-2a8863f472e9",
   "metadata": {},
   "outputs": [
    {
     "name": "stdout",
     "output_type": "stream",
     "text": [
      "{'name': 'Alice', 'age': 25, 'city': 'Wonderland'}\n"
     ]
    }
   ],
   "source": [
    "combined = dict(zip(keys, values))\n",
    "print(combined)"
   ]
  },
  {
   "cell_type": "markdown",
   "id": "d8c2dd60-c279-4546-aac7-592ba7a26bd7",
   "metadata": {},
   "source": [
    "29. Develop a program that extracts the vowels from a string and stores them in a list using list comprehension."
   ]
  },
  {
   "cell_type": "code",
   "execution_count": 18,
   "id": "839a7978-25e6-4d65-8d15-2e017f25677e",
   "metadata": {},
   "outputs": [
    {
     "name": "stdin",
     "output_type": "stream",
     "text": [
      "Enter a string:  hello world\n"
     ]
    },
    {
     "name": "stdout",
     "output_type": "stream",
     "text": [
      "Extracted vowels: ['e', 'o', 'o']\n"
     ]
    }
   ],
   "source": [
    "def extract_vowels(input_string):\n",
    "    vowels = ['a','e','i','o','u']\n",
    "    return [char for char in input_string.lower() if char in vowels]\n",
    "\n",
    "input_str = input(\"Enter a string: \")\n",
    "result = extract_vowels(input_str)\n",
    "\n",
    "print(\"Extracted vowels:\", result)"
   ]
  },
  {
   "cell_type": "markdown",
   "id": "3de0d706-15db-4d86-ab56-2373ad8c1ee3",
   "metadata": {},
   "source": [
    "30. Create a program that removes all non-numeric characters from a list of strings using list comprehension."
   ]
  },
  {
   "cell_type": "code",
   "execution_count": 19,
   "id": "a2cb1be8-e587-42c1-b298-a2b0f5967162",
   "metadata": {},
   "outputs": [
    {
     "name": "stdout",
     "output_type": "stream",
     "text": [
      "['123', '456', '789']\n"
     ]
    }
   ],
   "source": [
    "def non_numeric(string_list):\n",
    "    return [\"\".join(char for char in string if char.isdigit()) for string in string_list]\n",
    "\n",
    "original_strings = ['abc123', '456xyz', '789!@#']\n",
    "result = non_numeric(original_strings)\n",
    "\n",
    "print(result)"
   ]
  },
  {
   "cell_type": "markdown",
   "id": "51e69b2b-7090-4f85-959d-d284dcaa361c",
   "metadata": {},
   "source": [
    "Challenge Level:"
   ]
  },
  {
   "cell_type": "markdown",
   "id": "2d4f5a16-8e1c-421e-b793-cc9eaf2ba984",
   "metadata": {},
   "source": [
    "31. Write a program to generate a list of prime numbers using the Sieve of Eratosthenes algorithm and list comprehension."
   ]
  },
  {
   "cell_type": "code",
   "execution_count": 26,
   "id": "b96e812b-7312-40cc-8d73-4cba6d2f63dc",
   "metadata": {},
   "outputs": [
    {
     "name": "stdin",
     "output_type": "stream",
     "text": [
      "Enter limit: 50\n"
     ]
    },
    {
     "data": {
      "text/plain": [
       "[2, 3, 5, 7, 11, 13, 17, 19, 23, 29, 31, 37, 41, 43, 47]"
      ]
     },
     "execution_count": 26,
     "metadata": {},
     "output_type": "execute_result"
    }
   ],
   "source": [
    "def sieve_of_eratosthenes(limit):\n",
    "    primes = [True] * (limit + 1)\n",
    "    primes[0], primes[1] = False, False \n",
    "\n",
    "    for i in range(2, int(limit**0.5) + 1):\n",
    "        if primes[i]:\n",
    "            primes[i*i : limit + 1 : i] = [False] * len(primes[i*i : limit + 1 : i])\n",
    "\n",
    "    return [num for num in range(2, limit + 1) if primes[num]]\n",
    "                                                     \n",
    "limit = int(input(\"Enter limit:\"))\n",
    "sieve_of_eratosthenes(limit)"
   ]
  },
  {
   "cell_type": "markdown",
   "id": "544941e0-db8b-4cbc-90d9-2202d8148994",
   "metadata": {},
   "source": [
    "32. Create a program that generates a list of all Pythagorean triplets up to a specified limit using list comprehension."
   ]
  },
  {
   "cell_type": "code",
   "execution_count": 30,
   "id": "37f331b3-fc8b-4e73-a2b0-1dbb17db7ebd",
   "metadata": {},
   "outputs": [
    {
     "name": "stdin",
     "output_type": "stream",
     "text": [
      "Enter limit 5\n"
     ]
    },
    {
     "name": "stdout",
     "output_type": "stream",
     "text": [
      "[(1, 1, 1), (1, 1, 2), (1, 1, 3), (1, 1, 4), (1, 1, 5), (1, 2, 2), (1, 2, 3), (1, 2, 4), (1, 2, 5), (1, 3, 3), (1, 3, 4), (1, 3, 5), (1, 4, 4), (1, 4, 5), (1, 5, 5), (2, 2, 2), (2, 2, 3), (2, 2, 4), (2, 2, 5), (2, 3, 3), (2, 3, 4), (2, 3, 5), (2, 4, 4), (2, 4, 5), (2, 5, 5), (3, 3, 3), (3, 3, 4), (3, 3, 5), (3, 4, 4), (3, 4, 5), (3, 5, 5), (4, 4, 4), (4, 4, 5), (4, 5, 5), (5, 5, 5)]\n"
     ]
    }
   ],
   "source": [
    "def pythagorean_triplets(limit):\n",
    "    triplets = [(a,b,c,) for a in range(1, limit+1)\n",
    "                for b in range(a, limit+1)\n",
    "                for c in range(b, limit+1)]\n",
    "    return triplets\n",
    "  \n",
    "upper_limit = int(input(\"Enter limit\"))\n",
    "result = pythagorean_triplets(upper_limit)  \n",
    "print(result)                "
   ]
  },
  {
   "cell_type": "markdown",
   "id": "00a1601d-5514-4a6d-bdf8-8c7b073916d9",
   "metadata": {},
   "source": [
    "33. Develop a program that generates a list of all possible combinations of two lists using list comprehension."
   ]
  },
  {
   "cell_type": "code",
   "execution_count": 32,
   "id": "50723e82-b965-43e8-bf57-f9498ac2c849",
   "metadata": {},
   "outputs": [
    {
     "name": "stdout",
     "output_type": "stream",
     "text": [
      "[(1, 'a'), (1, 'b'), (1, 'c'), (2, 'a'), (2, 'b'), (2, 'c'), (3, 'a'), (3, 'b'), (3, 'c')]\n"
     ]
    }
   ],
   "source": [
    "def generate_combination(list1, list2):\n",
    "    return [(item1,item2) for item1 in list1 for item2 in list2]\n",
    "\n",
    "list1 = [1, 2, 3]\n",
    "list2 = ['a', 'b', 'c']\n",
    "combinations = generate_combination(list1, list2)\n",
    "print(combinations)"
   ]
  },
  {
   "cell_type": "markdown",
   "id": "62d25324-f43b-43e5-a338-40dee5914830",
   "metadata": {},
   "source": [
    "34. Write a program that calculates the mean, median, and mode of a list of numbers using list comprehension."
   ]
  },
  {
   "cell_type": "code",
   "execution_count": 34,
   "id": "3aea4ede-8891-4508-b9db-cdbb5f5d2aff",
   "metadata": {},
   "outputs": [
    {
     "name": "stdout",
     "output_type": "stream",
     "text": [
      "List of numbers: [1, 2, 2, 3, 4, 5, 5, 6, 7]\n",
      "Mean: 3.888888888888889\n",
      "Median: 4\n",
      "Mode: 2\n"
     ]
    }
   ],
   "source": [
    "from statistics import mean, median, mode\n",
    "\n",
    "def calculate_statistics(numbers):\n",
    "    return mean(numbers), median(numbers), mode(numbers)\n",
    "\n",
    "numbers_list = [1, 2, 2, 3, 4, 5, 5, 6, 7]\n",
    "mean_value, median_value, mode_value = calculate_statistics(numbers_list)\n",
    "\n",
    "print(f\"List of numbers: {numbers_list}\")\n",
    "print(f\"Mean: {mean_value}\")\n",
    "print(f\"Median: {median_value}\")\n",
    "print(f\"Mode: {mode_value}\")"
   ]
  },
  {
   "cell_type": "markdown",
   "id": "cea86ccc-920b-46a8-9a49-1ca0325acc5b",
   "metadata": {},
   "source": [
    "35. Create a program that generates Pascal's triangle up to a specified number of rows using list comprehension."
   ]
  },
  {
   "cell_type": "code",
   "execution_count": 67,
   "id": "bd3e81c0-1dc1-4673-a460-d6254781b9a9",
   "metadata": {},
   "outputs": [
    {
     "name": "stdin",
     "output_type": "stream",
     "text": [
      "Enter the number of rows for Pascal's triangle:  2\n"
     ]
    },
    {
     "name": "stdout",
     "output_type": "stream",
     "text": [
      "[1]\n",
      "[1, 1]\n"
     ]
    }
   ],
   "source": [
    "def generate_pascals_triangle(num_rows):\n",
    "    triangle = [[1] if i == 0 else [1, 1] if i == 1 else [1] + [triangle[i-1][j-1] + triangle[i-1][j] for j in range(1, i)] + [1] for i in range(num_rows)]\n",
    "    return triangle\n",
    "\n",
    "num_rows = int(input(\"Enter the number of rows for Pascal's triangle: \"))\n",
    "pascals_triangle = generate_pascals_triangle(num_rows)\n",
    "\n",
    "for row in pascals_triangle:\n",
    "    print(row)\n"
   ]
  },
  {
   "cell_type": "markdown",
   "id": "004a350f-561d-492a-8694-29c74f4403c9",
   "metadata": {},
   "source": [
    "36. Develop a program that calculates the sum of the digits of a factorial of numbers from 1 to 5 using list comprehension."
   ]
  },
  {
   "cell_type": "code",
   "execution_count": 49,
   "id": "8ccf771f-53cc-4a7f-97ec-d419fb1d78e3",
   "metadata": {},
   "outputs": [
    {
     "name": "stdout",
     "output_type": "stream",
     "text": [
      "Factorial of 1! is 1, and the sum of its digits is 1\n",
      "Factorial of 2! is 2, and the sum of its digits is 2\n",
      "Factorial of 3! is 6, and the sum of its digits is 6\n",
      "Factorial of 4! is 24, and the sum of its digits is 6\n",
      "Factorial of 5! is 120, and the sum of its digits is 3\n"
     ]
    }
   ],
   "source": [
    "import math\n",
    "\n",
    "def sum_of_digit(number):\n",
    "    return sum(int(digit) for digit in str(number))\n",
    "\n",
    "factorial_and_sums = [(n, sum_of_digit(math.factorial(n))) for n in range(1,6)]\n",
    "\n",
    "for n, digit_sum in factorial_and_sums:\n",
    "     print(f\"Factorial of {n}! is {math.factorial(n)}, and the sum of its digits is {digit_sum}\")"
   ]
  },
  {
   "cell_type": "markdown",
   "id": "59d4c7e1-794a-46cf-8c5e-3284832667d0",
   "metadata": {},
   "source": [
    "37. Write a program that finds the longest word in a sentence using list comprehension."
   ]
  },
  {
   "cell_type": "code",
   "execution_count": 51,
   "id": "b9d4cc40-fc9e-477c-b2c1-d3b5f4c961d4",
   "metadata": {},
   "outputs": [
    {
     "name": "stdin",
     "output_type": "stream",
     "text": [
      "Enter a sentence: bahsbjdabdfjhajkdb nsadkab badf abdf adbf \n"
     ]
    },
    {
     "name": "stdout",
     "output_type": "stream",
     "text": [
      "Longest word is: bahsbjdabdfjhajkdb\n"
     ]
    }
   ],
   "source": [
    "def longest_word(sentence):\n",
    "    words = sentence.split()\n",
    "    return max(words, key=len)\n",
    "sentence1 = input(\"Enter a sentence:\")\n",
    "result = longest_word(sentence1)\n",
    "print(\"Longest word is:\", result)"
   ]
  },
  {
   "cell_type": "markdown",
   "id": "b8495c37-498e-4acb-8262-4fc3472c9d9f",
   "metadata": {},
   "source": [
    "38. Create a program that filters a list of strings to include only those with more than three vowels using list comprehension."
   ]
  },
  {
   "cell_type": "code",
   "execution_count": 53,
   "id": "c5798c61-f3d0-45a6-b2ca-cc37b4d1a03b",
   "metadata": {},
   "outputs": [
    {
     "name": "stdout",
     "output_type": "stream",
     "text": [
      "['grapefruit', 'watermelon']\n"
     ]
    }
   ],
   "source": [
    "def count_vowels(word):\n",
    "    vowels = \"aeiouAEIOU\"\n",
    "    return sum(1 for char in word if char in vowels)\n",
    "\n",
    "def string_vowel(string1):\n",
    "    return [word for word in string1 if count_vowels(word) > 3]\n",
    "\n",
    "input_strings = [\"apple\", \"banana\", \"grapefruit\", \"kiwi\", \"orange\", \"watermelon\"]\n",
    "result = string_vowel(input_strings)\n",
    "\n",
    "print(result)"
   ]
  },
  {
   "cell_type": "markdown",
   "id": "cf84af57-83be-4f71-9c2a-7d7f06e06de0",
   "metadata": {},
   "source": [
    "39. Develop a program that calculates the sum of the digits of numbers from 1 to 1000 using list comprehension."
   ]
  },
  {
   "cell_type": "code",
   "execution_count": 56,
   "id": "06652515-4dee-4989-b8cc-95d45731866c",
   "metadata": {},
   "outputs": [
    {
     "name": "stdout",
     "output_type": "stream",
     "text": [
      "13501\n"
     ]
    }
   ],
   "source": [
    "def sum_of_digits(number):\n",
    "    return sum(int(digit) for digit in str(number))\n",
    "\n",
    "sum_of_digit_list = [sum_of_digit(n) for n in range(1, 1001)]\n",
    "total_sum = sum(sum_of_digit_list)\n",
    "print(total_sum)"
   ]
  },
  {
   "cell_type": "markdown",
   "id": "66af3571-8fa4-4aa6-8cbe-97c8594f553a",
   "metadata": {},
   "source": [
    "40. Write a program that generates a list of prime palindromic numbers using list comprehension."
   ]
  },
  {
   "cell_type": "code",
   "execution_count": 58,
   "id": "19eb8aa6-51e7-4d60-8fce-bfee96b7fe86",
   "metadata": {},
   "outputs": [
    {
     "name": "stdout",
     "output_type": "stream",
     "text": [
      "Prime palindromic numbers up to 1000: [2, 3, 5, 7, 11, 101, 131, 151, 181, 191, 313, 353, 373, 383, 727, 757, 787, 797, 919, 929]\n"
     ]
    }
   ],
   "source": [
    "def is_prime(num):\n",
    "    if num < 2:\n",
    "        return False\n",
    "    for i in range(2, int(num ** 0.5) +1):\n",
    "        if num % i == 0:\n",
    "            return False\n",
    "    return True\n",
    "\n",
    "def is_palindrome(num):\n",
    "    return str(num) == str(num)[::-1]\n",
    "\n",
    "prime_palindromess = [ num for num in range(1,1000) if is_prime(num) and is_palindrome(num)]\n",
    "print(\"Prime palindromic numbers up to 1000:\", prime_palindromess)\n"
   ]
  },
  {
   "cell_type": "code",
   "execution_count": null,
   "id": "d8f62c66-0925-48b7-aa16-99b035826967",
   "metadata": {},
   "outputs": [],
   "source": []
  }
 ],
 "metadata": {
  "kernelspec": {
   "display_name": "Python 3 (ipykernel)",
   "language": "python",
   "name": "python3"
  },
  "language_info": {
   "codemirror_mode": {
    "name": "ipython",
    "version": 3
   },
   "file_extension": ".py",
   "mimetype": "text/x-python",
   "name": "python",
   "nbconvert_exporter": "python",
   "pygments_lexer": "ipython3",
   "version": "3.10.8"
  }
 },
 "nbformat": 4,
 "nbformat_minor": 5
}
